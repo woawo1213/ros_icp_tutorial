{
 "cells": [
  {
   "cell_type": "code",
   "execution_count": 1,
   "metadata": {},
   "outputs": [
    {
     "name": "stdout",
     "output_type": "stream",
     "text": [
      "Jupyter environment detected. Enabling Open3D WebVisualizer.\n",
      "[Open3D INFO] WebRTC GUI backend enabled.\n",
      "[Open3D INFO] WebRTCWindowSystem: HTTP handshake server disabled.\n",
      "generation of 100 LoD successful\n",
      "generation of 300 LoD successful\n"
     ]
    }
   ],
   "source": [
    "import open3d as o3d\n",
    "import numpy as np\n",
    "\n",
    "input_path=\"/home/jm/workspace/Open3D-master/examples/test_data/\"\n",
    "output_path=\"/home/jm/workspace/Open3D-master/examples/test_data/result\"\n",
    "dataname=\"acc_w_normal.pcd\"\n",
    "\n",
    "point_cloud= np.loadtxt(input_path+dataname,skiprows=11)\n",
    "pcd = o3d.geometry.PointCloud()\n",
    "pcd.points = o3d.utility.Vector3dVector(point_cloud[:,:3])\n",
    "# pcd.colors = o3d.utility.Vector3dVector(point_cloud[:,3:6]/255)\n",
    "pcd.normals = o3d.utility.Vector3dVector(point_cloud[:,3:6])\n",
    "distances = pcd.compute_nearest_neighbor_distance()\n",
    "avg_dist = np.mean(distances)\n",
    "radius = 3 * avg_dist\n",
    "\n",
    "bpa_mesh=o3d.geometry.TriangleMesh.create_from_point_cloud_ball_pivoting(pcd,o3d.utility.DoubleVector([radius,radius*2]))\n",
    "\n",
    "dec_mesh = bpa_mesh.simplify_quadric_decimation(100000)\n",
    "# dec_mesh.remove_degenerate_triangles()\n",
    "# dec_mesh.remove_duplicated_triangles()\n",
    "# dec_mesh.remove_duplicated_vertices()\n",
    "# dec_mesh.remove_non_manifold_edges()\n",
    "\n",
    "poisson_mesh=o3d.geometry.TriangleMesh.create_from_point_cloud_poisson(pcd,depth=8,width=0,scale=1.1,linear_fit=False)[0]\n",
    "bbox = pcd.get_axis_aligned_bounding_box()\n",
    "p_mesh_crop = poisson_mesh.crop(bbox)\n",
    "\n",
    "o3d.io.write_triangle_mesh(output_path+\"bpa_mesh.ply\", dec_mesh)\n",
    "o3d.io.write_triangle_mesh(output_path+\"p_mesh_c.ply\", p_mesh_crop)\n",
    "\n",
    "def lod_mesh_export(mesh, lods, extension, path):\n",
    "    mesh_lods={}\n",
    "    for i in lods:\n",
    "        mesh_lod = mesh.simplify_quadric_decimation(i)\n",
    "        o3d.io.write_triangle_mesh(path+\"lod_\"+str(i)+extension, mesh_lod)\n",
    "        mesh_lods[i]=mesh_lod\n",
    "    print(\"generation of \"+str(i)+\" LoD successful\")\n",
    "    return mesh_lods\n",
    "\n",
    "my_lods = lod_mesh_export(bpa_mesh, [100000,50000,10000,1000,100], \".ply\", output_path)\n",
    "my_lods2 = lod_mesh_export(bpa_mesh, [8000,800,300], \".ply\", output_path)\n"
   ]
  },
  {
   "cell_type": "code",
   "execution_count": 2,
   "metadata": {},
   "outputs": [],
   "source": [
    "# o3d.visualization.draw_geometries([my_lods[100]])\n",
    "# o3d.visualization.draw_geometries([my_lods[1000]])\n",
    "# o3d.visualization.draw_geometries([my_lods[10000]])\n",
    "# o3d.visualization.draw_geometries([my_lods[50000]])\n",
    "o3d.visualization.draw_geometries([my_lods[100000]])"
   ]
  },
  {
   "cell_type": "code",
   "execution_count": 3,
   "metadata": {},
   "outputs": [],
   "source": [
    "# o3d.visualization.draw_geometries([my_lods2[300]])\n",
    "# o3d.visualization.draw_geometries([my_lods2[800]])\n",
    "o3d.visualization.draw_geometries([my_lods2[8000]])"
   ]
  }
 ],
 "metadata": {
  "interpreter": {
   "hash": "31f2aee4e71d21fbe5cf8b01ff0e069b9275f58929596ceb00d14d90e3e16cd6"
  },
  "kernelspec": {
   "display_name": "Python 3.6.9 64-bit",
   "language": "python",
   "name": "python3"
  },
  "language_info": {
   "codemirror_mode": {
    "name": "ipython",
    "version": 3
   },
   "file_extension": ".py",
   "mimetype": "text/x-python",
   "name": "python",
   "nbconvert_exporter": "python",
   "pygments_lexer": "ipython3",
   "version": "3.6.9"
  },
  "orig_nbformat": 4
 },
 "nbformat": 4,
 "nbformat_minor": 2
}
